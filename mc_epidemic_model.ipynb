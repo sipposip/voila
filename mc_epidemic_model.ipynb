{
 "cells": [
  {
   "cell_type": "markdown",
   "metadata": {},
   "source": [
    "# Simple probabilistic epidemic model\n",
    "## based on the deterministic SIR model, following Kermack & McKendrick (1927), combined with Monte-Carlo simulations"
   ]
  },
  {
   "cell_type": "code",
   "execution_count": 2,
   "metadata": {},
   "outputs": [],
   "source": [
    "import numpy as np\n",
    "from matplotlib import pyplot as plt\n",
    "from scipy.integrate import odeint\n",
    "from ipywidgets import interactive, HBox, VBox\n",
    "import ipywidgets as widgets\n"
   ]
  },
  {
   "cell_type": "code",
   "execution_count": 3,
   "metadata": {},
   "outputs": [],
   "source": [
    "def SIR(x, t, Ro, tau, d, t_start_qua, t_stop_qua, Ro_qua):\n",
    "    if (t >= t_start_qua / tau) & (t <= t_stop_qua / tau):\n",
    "        Ro_t = Ro_qua\n",
    "    else:\n",
    "        Ro_t = Ro\n",
    "    S, I, R, P = x\n",
    "    xdot = np.array([-Ro_t * S * I, Ro_t * S * I - I, (1. - d) * I, -d * I])\n",
    "    return xdot\n",
    "\n",
    "\n",
    "def solve(N, L, x0, Ro, tau, d, t_start_qua, t_stop_qua, Ro_qua):\n",
    "    t = np.linspace(0, L, N) / tau\n",
    "    x = odeint(SIR, x0, t, args=(Ro, tau, d, t_start_qua, t_stop_qua, Ro_qua))\n",
    "    # output\n",
    "    x = x * 100.  # convert to %\n",
    "    return x.T\n"
   ]
  },
  {
   "cell_type": "code",
   "execution_count": 4,
   "metadata": {},
   "outputs": [
    {
     "data": {
      "application/vnd.jupyter.widget-view+json": {
       "model_id": "e5d83e0237b4414cb0bb9ecf7b23aed1",
       "version_major": 2,
       "version_minor": 0
      },
      "text/plain": [
       "Canvas(toolbar=Toolbar(toolitems=[('Home', 'Reset original view', 'home', 'home'), ('Back', 'Back to previous …"
      ]
     },
     "metadata": {},
     "output_type": "display_data"
    },
    {
     "data": {
      "application/vnd.jupyter.widget-view+json": {
       "model_id": "87269ae7e1444b3e8dad9f7fd1d31c6c",
       "version_major": 2,
       "version_minor": 0
      },
      "text/plain": [
       "HBox(children=(VBox(children=(FloatSlider(value=2.5, description='$R_0$', max=6.0, min=0.5, step=0.25), IntSli…"
      ]
     },
     "metadata": {},
     "output_type": "display_data"
    }
   ],
   "source": [
    "%matplotlib widget\n",
    "\n",
    "\n",
    "params = dict(\n",
    "    N=120,  # N.o. timesteps\n",
    "    L=400,  # length run (days)\n",
    "    t_start_qua=0.,  # time quarantine starts (days)\n",
    "    t_stop_qua=0.1,  # time quarantine ends (days)\n",
    "    # Initial conditions\n",
    "    x0=np.array([0.999, 0.001, 0., 1.]),\n",
    "    Ro=2.5,\n",
    "    tau=14.,  # duration of infection (days)\n",
    "    d=0.,  # death rate (% infected who die)\n",
    "    Ro_qua=2.5,  # Ro during quarantine\n",
    ")\n",
    "uncertain_param_names = ['Ro', 'tau', 'd', 'Ro_qua']\n",
    "assert (all(key in params for key in uncertain_param_names))\n",
    "\n",
    "percs = [95, 90, 75, 50, 25, 10, 5]\n",
    "linestyle_percs = [':','--','-.','-','-.','--',':']\n",
    "stdev = 0.1  # stdev for monte carlo sampling (arbitrary!)\n",
    "N_mc = 200\n",
    "\n",
    "plot_single_sims = False # whether to plot all simulations. dont do this when N_mc is large\n",
    "def solve_mc(params, stdev):\n",
    "    res = []\n",
    "    for _ in range(N_mc):\n",
    "        pertubed_params = params.copy()\n",
    "        for param in uncertain_param_names:\n",
    "            pertubed_params[param] += np.random.normal(0, stdev)\n",
    "        pert_res = solve(**pertubed_params)\n",
    "        res.append(pert_res)\n",
    "\n",
    "    res = np.array(res)\n",
    "    # compute percentiles\n",
    "    percs_res = np.percentile(res, percs, axis=0)\n",
    "    assert (percs_res.shape == (len(percs), 4, params['N']))\n",
    "    return percs_res, res\n",
    "\n",
    "\n",
    "percs_res, res_all = solve_mc(params, stdev)\n",
    "\n",
    "colors = ['#1b9e77', '#d95f02', '#7570b3']  # colorblind friendly from colorbrewer\n",
    "\n",
    "\n",
    "# plot \n",
    "fig, ax = plt.subplots(1, 1, figsize=[8, 3])\n",
    "time = np.linspace(0, params['L'], params['N'])\n",
    "lines_per_percentile = []\n",
    "for ip in range(len(percs)):\n",
    "    l1 = ax.plot(time, percs_res[ip, 0], color=colors[0], linestyle=linestyle_percs[ip])\n",
    "    l2 = ax.plot(time, percs_res[ip, 1], color=colors[1], linestyle=linestyle_percs[ip])\n",
    "    l3 = ax.plot(time, percs_res[ip, 2], color=colors[2], linestyle=linestyle_percs[ip])\n",
    "    lines_per_percentile.append([l1, l2, l3])\n",
    "\n",
    "single_lines = []    \n",
    "if plot_single_sims:\n",
    "    for i in range(N_mc):\n",
    "        l1 = ax.plot(time, res_all[i, 0], color=colors[0], alpha=0.3)\n",
    "        l2 = ax.plot(time, res_all[i, 1], color=colors[1], alpha=0.3)\n",
    "        l3 = ax.plot(time, res_all[i, 2], color=colors[2], alpha=0.3)\n",
    "        single_lines.append([l1,l2,l3])\n",
    "rect = ax.axvspan(params['t_start_qua'], params['t_stop_qua'], color='0.5', alpha=0.5, linewidth=0, zorder=1)\n",
    "ax.set_xlabel('time (days)', fontsize=12)\n",
    "ax.set_ylabel('fraction of population (%)', fontsize=12)\n",
    "ax.legend(['Susceptible', 'Infected', 'Removed'], loc=(1.1, 0.7))\n",
    "ax.set_xlim(0, params['L'])\n",
    "ax.set_xticks(np.arange(0, 400, 30))\n",
    "ax.set_yticks(np.arange(0, 110, 10))\n",
    "ax.yaxis.set_ticks_position('both')\n",
    "ax.tick_params(labeltop=False, labelright=True)\n",
    "ax.grid(axis='y', linestyle=':', linewidth=0.5)\n",
    "plt.title(f'{N_mc} simulations')\n",
    "plt.tight_layout()\n",
    "\n",
    "fig.canvas.header_visible = False\n",
    "\n",
    "# Interactive plot\n",
    "Ro_widget = widgets.FloatSlider(min=0.5, max=6, step=0.25, value=params['Ro'],\n",
    "                                continuous_update=True, description=r'$R_0$')\n",
    "tau_widget = widgets.IntSlider(min=1, max=30, step=1, value=params['tau'],\n",
    "                               continuous_update=True, description=r'$\\tau$ (days)')\n",
    "t_start_qua_widget = widgets.IntSlider(min=0, max=300, step=5, value=params['t_start_qua'],\n",
    "                                       continuous_update=True, description='$t_\\mathrm{start\\ qua}$ (day)')\n",
    "t_stop_qua_widget = widgets.IntSlider(min=0, max=300, step=5, value=params['t_stop_qua'],\n",
    "                                      continuous_update=True, description='$t_\\mathrm{end\\ qua}$ (day)')\n",
    "Ro_qua_widget = widgets.FloatSlider(min=0., max=3., step=0.25, value=params['Ro_qua'],\n",
    "                                    continuous_update=True, description='$R_{0q}$')\n",
    "stdev_widget = widgets.FloatSlider(min=0., max=3., step=0.01, value=stdev,\n",
    "                                    continuous_update=True, description='stdev')\n",
    "\n",
    "def make_plot(Ro, tau, t_start_qua, t_stop_qua, Ro_qua, stdev):\n",
    "    # i did not find a way to do this less verbose...\n",
    "    params['Ro'] = Ro\n",
    "    params['tau'] = tau\n",
    "    params['Ro_qua'] = Ro_qua\n",
    "    params['t_start_qua'] = t_start_qua\n",
    "    params['t_stop_qua'] = t_stop_qua\n",
    "    percs_res, res_all = solve_mc(params, stdev)\n",
    "    for ip in range(len(percs)):\n",
    "        lines_per_percentile[ip][0][0].set_ydata(percs_res[ip,0])\n",
    "        lines_per_percentile[ip][1][0].set_ydata(percs_res[ip,1])\n",
    "        lines_per_percentile[ip][2][0].set_ydata(percs_res[ip,2])\n",
    "    if plot_single_sims:\n",
    "        for i in range(N_mc):\n",
    "            single_lines[i][0][0].set_ydata(res_all[i,0])  \n",
    "            single_lines[i][1][0].set_ydata(res_all[i,1])  \n",
    "            single_lines[i][2][0].set_ydata(res_all[i,2])  \n",
    "    xy = rect.get_xy()\n",
    "    if t_start_qua < t_stop_qua:\n",
    "        xy[:, 0] = [t_start_qua, t_start_qua, t_stop_qua, t_stop_qua, t_start_qua]\n",
    "    else:\n",
    "        xy[:, 0] = [0, 0, 0.1, 0.1, 0]\n",
    "    rect.set_xy(xy)\n",
    "\n",
    "\n",
    "w = interactive(make_plot,\n",
    "                Ro=Ro_widget,\n",
    "                tau=tau_widget,\n",
    "                t_start_qua=t_start_qua_widget,\n",
    "                t_stop_qua=t_stop_qua_widget,\n",
    "                Ro_qua=Ro_qua_widget,\n",
    "                stdev = stdev_widget)\n",
    "\n",
    "items = w.children\n",
    "left_box = VBox([items[0], items[1], items[5]])\n",
    "right_box = VBox([items[2], items[3], items[4]])\n",
    "HBox([left_box, right_box])\n"
   ]
  }
 ],
 "metadata": {
  "kernelspec": {
   "display_name": "Python 3",
   "language": "python",
   "name": "python3"
  },
  "language_info": {
   "codemirror_mode": {
    "name": "ipython",
    "version": 3
   },
   "file_extension": ".py",
   "mimetype": "text/x-python",
   "name": "python",
   "nbconvert_exporter": "python",
   "pygments_lexer": "ipython3",
   "version": "3.8.2"
  },
  "latex_envs": {
   "LaTeX_envs_menu_present": true,
   "autoclose": false,
   "autocomplete": true,
   "bibliofile": "biblio.bib",
   "cite_by": "apalike",
   "current_citInitial": 1,
   "eqLabelWithNumbers": true,
   "eqNumInitial": 1,
   "hotkeys": {
    "equation": "Ctrl-E",
    "itemize": "Ctrl-I"
   },
   "labels_anchors": false,
   "latex_user_defs": false,
   "report_style_numbering": false,
   "user_envs_cfg": false
  }
 },
 "nbformat": 4,
 "nbformat_minor": 2
}
